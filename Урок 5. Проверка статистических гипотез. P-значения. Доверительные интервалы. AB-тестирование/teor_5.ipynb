{
 "cells": [
  {
   "cell_type": "code",
   "execution_count": 1,
   "id": "e8494fc6",
   "metadata": {},
   "outputs": [],
   "source": [
    "import numpy as np\n",
    "import pandas as pd\n",
    "from scipy import stats"
   ]
  },
  {
   "cell_type": "markdown",
   "id": "1b9046ff",
   "metadata": {},
   "source": [
    "1. Известно, что генеральная совокупность распределена нормально со средним квадратическим отклонением, равным 16. Найти доверительный интервал для оценки математического ожидания a с надежностью 0.95, если выборочная средняя M = 80, а объем выборки n = 256."
   ]
  },
  {
   "cell_type": "markdown",
   "id": "c9315568",
   "metadata": {},
   "source": [
    "s = 16\n",
    "n = 256\n",
    "m = 80\n"
   ]
  },
  {
   "cell_type": "markdown",
   "id": "1ad7af42",
   "metadata": {},
   "source": [
    "Найдем квантиль t-распределения\n",
    "https://mipt-stats.gitlab.io/courses/python/07_scipy_stats.html\n",
    "X(params).ppf(q) —  q -квантиль (Percent Point Function);"
   ]
  },
  {
   "cell_type": "code",
   "execution_count": 4,
   "id": "271cd6d7",
   "metadata": {},
   "outputs": [],
   "source": [
    "t_obj = stats.t(256 - 1)"
   ]
  },
  {
   "cell_type": "code",
   "execution_count": 6,
   "id": "3d4a4307",
   "metadata": {},
   "outputs": [
    {
     "data": {
      "text/plain": [
       "1.9693105698491928"
      ]
     },
     "execution_count": 6,
     "metadata": {},
     "output_type": "execute_result"
    }
   ],
   "source": [
    "t = t_obj.ppf(1 - 0.05 / 2)\n",
    "t"
   ]
  },
  {
   "cell_type": "code",
   "execution_count": 7,
   "id": "0d3702d1",
   "metadata": {},
   "outputs": [],
   "source": [
    "s = 16\n",
    "n = 256\n",
    "m = 80"
   ]
  },
  {
   "cell_type": "code",
   "execution_count": 9,
   "id": "57b97be3",
   "metadata": {},
   "outputs": [],
   "source": [
    "\n",
    "fill_between=(m - t * s / np.sqrt(n), m + t * s / np.sqrt(n))"
   ]
  },
  {
   "cell_type": "code",
   "execution_count": 10,
   "id": "7638b8e5",
   "metadata": {},
   "outputs": [
    {
     "data": {
      "text/plain": [
       "(78.0306894301508, 81.9693105698492)"
      ]
     },
     "execution_count": 10,
     "metadata": {},
     "output_type": "execute_result"
    }
   ],
   "source": [
    "fill_between"
   ]
  },
  {
   "cell_type": "markdown",
   "id": "74e9e7ac",
   "metadata": {},
   "source": [
    "Ответ  78.0306894301508, 81.9693105698492"
   ]
  },
  {
   "cell_type": "code",
   "execution_count": null,
   "id": "91f74021",
   "metadata": {},
   "outputs": [],
   "source": []
  },
  {
   "cell_type": "code",
   "execution_count": null,
   "id": "cf630e50",
   "metadata": {},
   "outputs": [],
   "source": []
  },
  {
   "cell_type": "markdown",
   "id": "ec96a58f",
   "metadata": {},
   "source": [
    "В результате 10 независимых измерений некоторой величины X, выполненных с одинаковой точностью,\n",
    "получены опытные данные:\n",
    "6.9, 6.1, 6.2, 6.8, 7.5, 6.3, 6.4, 6.9, 6.7, 6.1\n",
    "Предполагая, что результаты измерений подчинены нормальному закону распределения вероятностей,\n",
    "оценить истинное значение величины X при помощи доверительного интервала, покрывающего это\n",
    "значение с доверительной вероятностью 0,95."
   ]
  },
  {
   "cell_type": "code",
   "execution_count": 38,
   "id": "83386126",
   "metadata": {},
   "outputs": [],
   "source": [
    "from statsmodels.stats.weightstats import _tconfint_generic as t_stat\n"
   ]
  },
  {
   "cell_type": "markdown",
   "id": "94eec498",
   "metadata": {},
   "source": [
    "https://www.statsmodels.org/dev/_modules/statsmodels/stats/weightstats.html"
   ]
  },
  {
   "cell_type": "code",
   "execution_count": 11,
   "id": "a34c0d46",
   "metadata": {},
   "outputs": [],
   "source": [
    "X = np.array([6.9, 6.1, 6.2, 6.8, 7.5, 6.3, 6.4, 6.9, 6.7, 6.1])\n",
    "mean_X = X.mean()\n",
    "std_X = X.std(ddof=1)\n",
    "mean_std_X = std_X / (np.sqrt(len(X)))"
   ]
  },
  {
   "cell_type": "code",
   "execution_count": 23,
   "id": "ec7a2104",
   "metadata": {},
   "outputs": [
    {
     "data": {
      "text/plain": [
       "0.4508017549014448"
      ]
     },
     "execution_count": 23,
     "metadata": {},
     "output_type": "execute_result"
    }
   ],
   "source": [
    "std_X"
   ]
  },
  {
   "cell_type": "markdown",
   "id": "0cecb199",
   "metadata": {},
   "source": [
    "a/2 = 0,025\n",
    "v = n-1 = 9\n",
    "t = 2,262"
   ]
  },
  {
   "cell_type": "code",
   "execution_count": 33,
   "id": "04a46fef",
   "metadata": {},
   "outputs": [],
   "source": []
  },
  {
   "cell_type": "code",
   "execution_count": 42,
   "id": "10bbec32",
   "metadata": {},
   "outputs": [
    {
     "data": {
      "text/plain": [
       "(6.267515851415713, 6.912484148584288)"
      ]
     },
     "execution_count": 42,
     "metadata": {},
     "output_type": "execute_result"
    }
   ],
   "source": [
    "t_stat(mean_X, mean_std_X,len(X) - 1, 0.05, 'two-sided')"
   ]
  },
  {
   "cell_type": "code",
   "execution_count": null,
   "id": "d45e3226",
   "metadata": {},
   "outputs": [],
   "source": []
  },
  {
   "cell_type": "markdown",
   "id": "c6514ef6",
   "metadata": {},
   "source": [
    "Проведите тест гипотезы. Утверждается, что шарики для подшипников, изготовленные автоматическим станком, имеют средний диаметр 17 мм.\n",
    "Используя односторонний критерий с α=0,05, проверить эту гипотезу, если в выборке из n=100 шариков средний диаметр\n",
    "оказался равным 17.5 мм, а дисперсия известна и равна 4 кв. мм."
   ]
  },
  {
   "cell_type": "markdown",
   "id": "08fb4d93",
   "metadata": {},
   "source": [
    "H0=17mm, H1>17\n"
   ]
  },
  {
   "cell_type": "code",
   "execution_count": 51,
   "id": "dad6b81a",
   "metadata": {},
   "outputs": [],
   "source": [
    "Ho= (17.5 - 17) / 4 * np.sqrt(100)"
   ]
  },
  {
   "cell_type": "code",
   "execution_count": 52,
   "id": "9b1bfe59",
   "metadata": {},
   "outputs": [
    {
     "data": {
      "text/plain": [
       "1.25"
      ]
     },
     "execution_count": 52,
     "metadata": {},
     "output_type": "execute_result"
    }
   ],
   "source": [
    "Ho"
   ]
  },
  {
   "cell_type": "markdown",
   "id": "bbc08670",
   "metadata": {},
   "source": [
    "F_ucr= (1-2*0.05)/2 в соответствии с таблицей = 1,65"
   ]
  },
  {
   "cell_type": "markdown",
   "id": "8f56e20d",
   "metadata": {},
   "source": [
    "F_ucr = ровна 1.65"
   ]
  },
  {
   "cell_type": "markdown",
   "id": "94cc5029",
   "metadata": {},
   "source": [
    "Так как 1,25 > 1,645 то нулевую гипотезу можно принять, можно считать что\n",
    "средний диаметр действительно d =17 мм. "
   ]
  },
  {
   "cell_type": "code",
   "execution_count": null,
   "id": "17f12771",
   "metadata": {},
   "outputs": [],
   "source": []
  },
  {
   "cell_type": "markdown",
   "id": "34892654",
   "metadata": {},
   "source": [
    "4.Проведите тест гипотезы. Продавец утверждает, что средний вес пачки печенья составляет 200 г.\n",
    "Из партии извлечена выборка из 10 пачек. Вес каждой пачки составляет:\n",
    "202, 203, 199, 197, 195, 201, 200, 204, 194, 190.\n",
    "Известно, что их веса распределены нормально.\n",
    "Верно ли утверждение продавца, если учитывать, что доверительная вероятность равна 99%? (Провести двусторонний тест.)"
   ]
  },
  {
   "cell_type": "markdown",
   "id": "1af9d2f1",
   "metadata": {},
   "source": [
    "H0: M = 200\n",
    "\n",
    "H1: M != 200"
   ]
  },
  {
   "cell_type": "code",
   "execution_count": 60,
   "id": "6a5c64c2",
   "metadata": {},
   "outputs": [],
   "source": [
    "X = np.array([202, 203, 199, 197, 195, 201, 200, 204, 194, 190])\n",
    "mean_X = X.mean()\n",
    "std_X = X.std(ddof=1)"
   ]
  },
  {
   "cell_type": "code",
   "execution_count": 62,
   "id": "d0707c37",
   "metadata": {},
   "outputs": [
    {
     "data": {
      "text/plain": [
       "-1.0651074037450896"
      ]
     },
     "execution_count": 62,
     "metadata": {},
     "output_type": "execute_result"
    }
   ],
   "source": [
    "Ho = (mean_X - 200) / std_X * np.sqrt(10)\n",
    "Ho\n"
   ]
  },
  {
   "cell_type": "markdown",
   "id": "17837b1a",
   "metadata": {},
   "source": [
    "F_ucr =  (1-2*0.01)/2"
   ]
  },
  {
   "cell_type": "code",
   "execution_count": 65,
   "id": "37ec7223",
   "metadata": {},
   "outputs": [],
   "source": [
    "F_ucr = 2,34"
   ]
  },
  {
   "cell_type": "markdown",
   "id": "a2a7d31b",
   "metadata": {},
   "source": [
    "Ho>H1 нулевая гипотеза верна."
   ]
  }
 ],
 "metadata": {
  "kernelspec": {
   "display_name": "Python 3 (ipykernel)",
   "language": "python",
   "name": "python3"
  },
  "language_info": {
   "codemirror_mode": {
    "name": "ipython",
    "version": 3
   },
   "file_extension": ".py",
   "mimetype": "text/x-python",
   "name": "python",
   "nbconvert_exporter": "python",
   "pygments_lexer": "ipython3",
   "version": "3.9.7"
  }
 },
 "nbformat": 4,
 "nbformat_minor": 5
}
