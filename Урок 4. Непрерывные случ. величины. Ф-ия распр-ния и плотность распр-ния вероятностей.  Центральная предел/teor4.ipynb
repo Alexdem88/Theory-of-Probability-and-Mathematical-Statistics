{
 "cells": [
  {
   "cell_type": "code",
   "execution_count": 10,
   "id": "1dcfb642",
   "metadata": {},
   "outputs": [],
   "source": [
    "import pandas as pd\n",
    "import numpy as np\n"
   ]
  },
  {
   "cell_type": "markdown",
   "id": "08c9ebfb",
   "metadata": {},
   "source": [
    "Случайная непрерывная величина A имеет равномерное распределение на промежутке (200, 800].\n",
    "Найдите ее среднее значение и дисперсию."
   ]
  },
  {
   "cell_type": "code",
   "execution_count": 11,
   "id": "08b26a31",
   "metadata": {},
   "outputs": [],
   "source": [
    "M = (800+200)/2"
   ]
  },
  {
   "cell_type": "code",
   "execution_count": 12,
   "id": "818073c4",
   "metadata": {},
   "outputs": [
    {
     "data": {
      "text/plain": [
       "500.0"
      ]
     },
     "execution_count": 12,
     "metadata": {},
     "output_type": "execute_result"
    }
   ],
   "source": [
    "M"
   ]
  },
  {
   "cell_type": "markdown",
   "id": "e3dabfaa",
   "metadata": {},
   "source": [
    "Среднее значение равно 500\n"
   ]
  },
  {
   "cell_type": "code",
   "execution_count": 13,
   "id": "9910b570",
   "metadata": {},
   "outputs": [],
   "source": [
    "D = ((800-200)**2)/12"
   ]
  },
  {
   "cell_type": "code",
   "execution_count": 14,
   "id": "12ba4c56",
   "metadata": {},
   "outputs": [
    {
     "data": {
      "text/plain": [
       "30000.0"
      ]
     },
     "execution_count": 14,
     "metadata": {},
     "output_type": "execute_result"
    }
   ],
   "source": [
    "D"
   ]
  },
  {
   "cell_type": "markdown",
   "id": "6308c168",
   "metadata": {},
   "source": [
    "дисперсия ровна 30000"
   ]
  },
  {
   "cell_type": "code",
   "execution_count": null,
   "id": "a5b50927",
   "metadata": {},
   "outputs": [],
   "source": []
  },
  {
   "cell_type": "code",
   "execution_count": null,
   "id": "cf477d29",
   "metadata": {},
   "outputs": [],
   "source": []
  },
  {
   "cell_type": "markdown",
   "id": "a7ea4698",
   "metadata": {},
   "source": [
    "О случайной непрерывной равномерно распределенной величине B известно, что ее дисперсия равна 0.2.\n",
    "Можно ли найти правую границу величины B и ее среднее значение зная, что левая граница равна 0.5?\n",
    "Если да, найдите ее."
   ]
  },
  {
   "cell_type": "markdown",
   "id": "b57188f2",
   "metadata": {},
   "source": [
    "D(x) = (a+b)**2/12 = 0,2 , где а = 0,5, D(x) =0,2\n",
    "\n",
    "корень из 2,4 = 0,5 + b\n"
   ]
  },
  {
   "cell_type": "code",
   "execution_count": 15,
   "id": "f244427c",
   "metadata": {},
   "outputs": [],
   "source": [
    "a = 0.5\n",
    "c = np.sqrt(2.4)\n",
    "b = c + a\n"
   ]
  },
  {
   "cell_type": "code",
   "execution_count": 16,
   "id": "44346085",
   "metadata": {},
   "outputs": [
    {
     "data": {
      "text/plain": [
       "2.049193338482967"
      ]
     },
     "execution_count": 16,
     "metadata": {},
     "output_type": "execute_result"
    }
   ],
   "source": [
    "b"
   ]
  },
  {
   "cell_type": "markdown",
   "id": "e6ca5f88",
   "metadata": {},
   "source": [
    "правая граница ровна 2.049193338482967"
   ]
  },
  {
   "cell_type": "code",
   "execution_count": 22,
   "id": "a7c61f53",
   "metadata": {},
   "outputs": [],
   "source": [
    "M = (a +b) /2"
   ]
  },
  {
   "cell_type": "code",
   "execution_count": 23,
   "id": "fea850c2",
   "metadata": {},
   "outputs": [
    {
     "data": {
      "text/plain": [
       "1.2745966692414834"
      ]
     },
     "execution_count": 23,
     "metadata": {},
     "output_type": "execute_result"
    }
   ],
   "source": [
    "M"
   ]
  },
  {
   "cell_type": "markdown",
   "id": "8b9ca34c",
   "metadata": {},
   "source": [
    "Среднее значение равно 1.2745"
   ]
  },
  {
   "cell_type": "code",
   "execution_count": null,
   "id": "672227e9",
   "metadata": {},
   "outputs": [],
   "source": []
  },
  {
   "cell_type": "code",
   "execution_count": null,
   "id": "69252c77",
   "metadata": {},
   "outputs": [],
   "source": []
  },
  {
   "cell_type": "markdown",
   "id": "ebfb47ed",
   "metadata": {},
   "source": [
    "Непрерывная случайная величина X распределена нормально и задана плотностью распределения\n",
    "f(x) = (1 / (4 * sqrt(2pi))) * exp((-(x+2)**2) / 32)\n",
    "Найдите:\n",
    "а). M(X)\n",
    "б). D(X)\n",
    "в). std(X) (среднее квадратичное отклонение)"
   ]
  },
  {
   "cell_type": "markdown",
   "id": "c6572267",
   "metadata": {},
   "source": [
    "Ответ:  M(x) = 2 , D(x) = 4, std(x) = 2"
   ]
  },
  {
   "cell_type": "code",
   "execution_count": null,
   "id": "ab73e267",
   "metadata": {},
   "outputs": [],
   "source": []
  },
  {
   "cell_type": "code",
   "execution_count": null,
   "id": "8d30e4d9",
   "metadata": {},
   "outputs": [],
   "source": []
  },
  {
   "cell_type": "markdown",
   "id": "dc0135c8",
   "metadata": {},
   "source": [
    "Рост взрослого населения города X имеет нормальное распределение.\n",
    "Причем, средний рост равен 174 см, а среднее квадратичное отклонение равно 8 см.\n",
    "Какова вероятность того, что случайным образом выбранный взрослый человек имеет рост:\n",
    "а). больше 182 см\n",
    "б). больше 190 см\n",
    "в). от 166 см до 190 см\n",
    "г). от 166 см до 182 см\n",
    "д). от 158 см до 190 см\n",
    "е). не выше 150 см или не ниже 190 см\n",
    "ё). не выше 150 см или не ниже 198 см\n",
    "ж). ниже 166 см.\n",
    "\n",
    "Использовал эту таблицу\n",
    "http://math-hse.info/f/2017-18/ps-ms/all-tables.pdf\n",
    "\n",
    "Но у меня есть подозрение, что требуется использовать значения из функции Лапласа  http://kvm.gubkin.ru/pub/fan/laplasetable2.pdf, тогда соответтвенно будут другие значения, при этом логика решения останется прежней."
   ]
  },
  {
   "cell_type": "markdown",
   "id": "02065e7d",
   "metadata": {},
   "source": [
    "а) Рост больше 182 =  (182-174)/8 = 1 Z=0,8413. Поскольку нам требуется вычислить все значение которые больше 182, то 1 - 0,8413 = 0,1587. Вероятность что человек выше 182 см равна 15,87 процента."
   ]
  },
  {
   "cell_type": "markdown",
   "id": "e2ecf406",
   "metadata": {},
   "source": [
    "б) Рост больше 190 =  (190-174)/8 = 2 Z=0,9772. Поскольку нам требуется вычислить все значение которые больше то 1 - 0,9772 = 0,0228. Вероятность что человек выше 190 см равна 2,28 процент."
   ]
  },
  {
   "cell_type": "markdown",
   "id": "6a7de8ce",
   "metadata": {},
   "source": [
    "в) от 166 см до 190 см    \n",
    "Вероятность что человек выше 166 см ровна (166-174)/2 = 1 Z = 0,1587\n",
    "Вероятность что человек выше 190 см равна 0,022\n",
    "Вероятность того, что человек иммет рости от 166 до 190 равна = 1 - (0,1587+0,022) ровна 81,93 процента\n",
    "\n"
   ]
  },
  {
   "cell_type": "markdown",
   "id": "1e904712",
   "metadata": {},
   "source": [
    "г). от 166 см до 182 см\n",
    "\n",
    "Вероятность что человек выше 166 см ровна (166-174)/2 = 1 Z = 0,1587 \n",
    "Вероятность что человек выше 182 см равна 15,87 процента.\n",
    "Вероятность того, что человек иммет рости от 166 до 182 равна = 1 - (0,1587+0,1587) ровна 68,26 процента"
   ]
  },
  {
   "cell_type": "markdown",
   "id": "a6556a7b",
   "metadata": {},
   "source": [
    "д). от 158 см до 190 см\n",
    "Вероятность что человек выше 158 см равна 0,022\n",
    "Вероятность что человек выше 190 см равна 0,022 \n",
    "Вероятность того что рост человека от 158 до 190 ровна = 1 - (0,022 + 0, 022) = 95,6 процента\n",
    "\n"
   ]
  },
  {
   "cell_type": "markdown",
   "id": "1ccb80af",
   "metadata": {},
   "source": [
    "не выше 150 см или не ниже 190 см\n",
    "\n",
    "Веротность того, что человек не выше 150 см ровна = (150 - 174)/8 = 3 Z = 0,9987. 1 = 0,9987 = 0,0013\n",
    "вероятность того, что человек не ниже 190 ровна 0,022\n",
    "Итого, вероятность что человек не выше 150 или не ниже 190 ровна 0,0013 + 0,022 = 0, 0233  2,3 процента\n",
    "\n"
   ]
  },
  {
   "cell_type": "markdown",
   "id": "eb353577",
   "metadata": {},
   "source": [
    "не выше 150 см или не ниже 198 см\n",
    "Веротность того, что человек не выше 150 см ровна = (150 - 174)/8 = 3 Z = 0,9987. 1 = 0,9987 = 0,0013\n",
    "Веротность того, что человек не ниже 198 см ровна = (150 - 174)/8 = 3 Z = 0,9987. 1 = 0,9987 = 0,0013\n",
    "Итого вероятность того, что человек не выше 150 см или не ниже 198 см = 0,0013 + 0, 0013 = 0,0026 или 0,26 процента"
   ]
  },
  {
   "cell_type": "markdown",
   "id": "5a8a66b1",
   "metadata": {},
   "source": [
    "ж). ниже 166 см.\n",
    "а) Рост ниже 166=  (166-174)/8 = 1 Z=0,8413. Поскольку нам требуется вычислить все значение которые ниже 166, то 1 - 0,8413 = 0,1587. Вероятность что человек ниже 166 см равна 15,87 процента.\n"
   ]
  },
  {
   "cell_type": "code",
   "execution_count": null,
   "id": "eb96d5a3",
   "metadata": {},
   "outputs": [],
   "source": []
  },
  {
   "cell_type": "code",
   "execution_count": null,
   "id": "1375ed74",
   "metadata": {},
   "outputs": [],
   "source": []
  },
  {
   "cell_type": "markdown",
   "id": "241b943c",
   "metadata": {},
   "source": [
    "На сколько сигм (средних квадратичных отклонений) отклоняется рост человека, равный 190 см, от\n",
    "математического ожидания роста в популяции, в которой M(X) = 178 см и D(X) = 25 кв.см?\n",
    "Ответ на 2,4 сигмы"
   ]
  }
 ],
 "metadata": {
  "kernelspec": {
   "display_name": "Python 3 (ipykernel)",
   "language": "python",
   "name": "python3"
  },
  "language_info": {
   "codemirror_mode": {
    "name": "ipython",
    "version": 3
   },
   "file_extension": ".py",
   "mimetype": "text/x-python",
   "name": "python",
   "nbconvert_exporter": "python",
   "pygments_lexer": "ipython3",
   "version": "3.9.7"
  }
 },
 "nbformat": 4,
 "nbformat_minor": 5
}
