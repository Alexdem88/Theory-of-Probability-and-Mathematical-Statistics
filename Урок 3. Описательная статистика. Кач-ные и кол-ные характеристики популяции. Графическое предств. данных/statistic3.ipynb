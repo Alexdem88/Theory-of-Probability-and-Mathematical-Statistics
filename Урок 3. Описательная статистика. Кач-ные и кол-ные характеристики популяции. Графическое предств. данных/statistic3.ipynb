{
 "cells": [
  {
   "cell_type": "markdown",
   "id": "a97411d2",
   "metadata": {},
   "source": [
    "Даны значения зарплат из выборки выпускников: 100, 80, 75, 77, 89, 33, 45, 25, 65, 17, 30, 24, 57, 55, 70, 75, 65, 84, 90, 150. Посчитать (желательно без использования статистических методов наподобие std, var, mean) среднее арифметическое, среднее квадратичное отклонение, смещенную и несмещенную оценки дисперсий для данной выборки."
   ]
  },
  {
   "cell_type": "code",
   "execution_count": 17,
   "id": "7d1ea275",
   "metadata": {},
   "outputs": [],
   "source": [
    "import numpy as np\n",
    "from math import factorial as f\n"
   ]
  },
  {
   "cell_type": "code",
   "execution_count": 18,
   "id": "45feb49f",
   "metadata": {},
   "outputs": [],
   "source": [
    "x = np.array([100, 80, 75, 77, 89, 33, 45, 25, 65, 17, 30, 24, 57, 55, 70, 75, 65, 84, 90, 150])"
   ]
  },
  {
   "cell_type": "code",
   "execution_count": null,
   "id": "1deba8d6",
   "metadata": {},
   "outputs": [],
   "source": []
  },
  {
   "cell_type": "code",
   "execution_count": null,
   "id": "78890408",
   "metadata": {},
   "outputs": [],
   "source": []
  },
  {
   "cell_type": "markdown",
   "id": "f508317d",
   "metadata": {},
   "source": [
    "среднее арифметическое"
   ]
  },
  {
   "cell_type": "code",
   "execution_count": 19,
   "id": "6ee67c1e",
   "metadata": {},
   "outputs": [
    {
     "data": {
      "text/plain": [
       "20"
      ]
     },
     "execution_count": 19,
     "metadata": {},
     "output_type": "execute_result"
    }
   ],
   "source": [
    "x.size\n"
   ]
  },
  {
   "cell_type": "code",
   "execution_count": 20,
   "id": "66644eeb",
   "metadata": {},
   "outputs": [
    {
     "data": {
      "text/plain": [
       "1306"
      ]
     },
     "execution_count": 20,
     "metadata": {},
     "output_type": "execute_result"
    }
   ],
   "source": [
    "x.sum()"
   ]
  },
  {
   "cell_type": "code",
   "execution_count": 21,
   "id": "0a5ab3b3",
   "metadata": {},
   "outputs": [],
   "source": [
    "arithmetic_mean = x.sum()/x.size"
   ]
  },
  {
   "cell_type": "code",
   "execution_count": 22,
   "id": "471a4c0d",
   "metadata": {},
   "outputs": [
    {
     "data": {
      "text/plain": [
       "65.3"
      ]
     },
     "execution_count": 22,
     "metadata": {},
     "output_type": "execute_result"
    }
   ],
   "source": [
    "arithmetic_mean"
   ]
  },
  {
   "cell_type": "markdown",
   "id": "77462b4f",
   "metadata": {},
   "source": [
    "среднее квадратичное отклонение"
   ]
  },
  {
   "cell_type": "code",
   "execution_count": 23,
   "id": "c4772290",
   "metadata": {},
   "outputs": [],
   "source": [
    "mean_square_deviation = (np.sum((x - arithmetic_mean)**2) / x.size)**0.5"
   ]
  },
  {
   "cell_type": "code",
   "execution_count": 24,
   "id": "9738716f",
   "metadata": {},
   "outputs": [
    {
     "data": {
      "text/plain": [
       "30.823854398825596"
      ]
     },
     "execution_count": 24,
     "metadata": {},
     "output_type": "execute_result"
    }
   ],
   "source": [
    "mean_square_deviation"
   ]
  },
  {
   "cell_type": "markdown",
   "id": "6cdbdea3",
   "metadata": {},
   "source": [
    "смещенную и несмещенную оценки дисперсий для данной выборки"
   ]
  },
  {
   "cell_type": "markdown",
   "id": "0354e09b",
   "metadata": {},
   "source": [
    "смещенная"
   ]
  },
  {
   "cell_type": "code",
   "execution_count": 25,
   "id": "f3e886e2",
   "metadata": {},
   "outputs": [
    {
     "data": {
      "text/plain": [
       "950.11"
      ]
     },
     "execution_count": 25,
     "metadata": {},
     "output_type": "execute_result"
    }
   ],
   "source": [
    "np.sum((x - arithmetic_mean)**2) / x.size"
   ]
  },
  {
   "cell_type": "markdown",
   "id": "7f0f0f71",
   "metadata": {},
   "source": [
    "не смещенная"
   ]
  },
  {
   "cell_type": "code",
   "execution_count": 26,
   "id": "ff3ac407",
   "metadata": {},
   "outputs": [
    {
     "data": {
      "text/plain": [
       "1000.1157894736842"
      ]
     },
     "execution_count": 26,
     "metadata": {},
     "output_type": "execute_result"
    }
   ],
   "source": [
    "np.sum((x - arithmetic_mean)**2) / (x.size-1)"
   ]
  },
  {
   "cell_type": "markdown",
   "id": "bd9c9514",
   "metadata": {},
   "source": [
    "В первом ящике находится 8 мячей, из которых 5 - белые. Во втором ящике - 12 мячей, из которых 5 белых. Из первого ящика вытаскивают случайным образом два мяча, из второго - 4. Какова вероятность того, что 3 мяча белые?"
   ]
  },
  {
   "cell_type": "code",
   "execution_count": 84,
   "id": "dca1ea5e",
   "metadata": {},
   "outputs": [],
   "source": [
    "def combinations(n,k):\n",
    "    return f(n) / (f(k) * f(n-k))"
   ]
  },
  {
   "cell_type": "markdown",
   "id": "242ae4f0",
   "metadata": {},
   "source": [
    "у нас 3 варианта событий: 0Б / 3Б+1ч, 1Б/2Б+2ч, 2Б/1Б+3ч"
   ]
  },
  {
   "cell_type": "markdown",
   "id": "80681ea5",
   "metadata": {},
   "source": [
    "событие 1 0Б / 3Б+1ч"
   ]
  },
  {
   "cell_type": "code",
   "execution_count": 92,
   "id": "9e974c9e",
   "metadata": {},
   "outputs": [],
   "source": [
    "x1= (combinations (3,2)* combinations (5,0))/combinations (8,2) * (combinations (5,3)* combinations (7,0))/ combinations (12,4)"
   ]
  },
  {
   "cell_type": "code",
   "execution_count": 93,
   "id": "1968c5bf",
   "metadata": {},
   "outputs": [
    {
     "data": {
      "text/plain": [
       "0.0021645021645021645"
      ]
     },
     "execution_count": 93,
     "metadata": {},
     "output_type": "execute_result"
    }
   ],
   "source": [
    "x1"
   ]
  },
  {
   "cell_type": "markdown",
   "id": "c7c23f06",
   "metadata": {},
   "source": [
    "событие 2 1Б/2Б+2ч"
   ]
  },
  {
   "cell_type": "code",
   "execution_count": 94,
   "id": "d6eb3fb9",
   "metadata": {},
   "outputs": [],
   "source": [
    "x2=(combinations (3,1)* combinations (5,1))/combinations (8,2) * (combinations (5,2)* combinations (7,2))/ combinations (12,4)"
   ]
  },
  {
   "cell_type": "code",
   "execution_count": 96,
   "id": "387b0bef",
   "metadata": {},
   "outputs": [
    {
     "data": {
      "text/plain": [
       "0.22727272727272727"
      ]
     },
     "execution_count": 96,
     "metadata": {},
     "output_type": "execute_result"
    }
   ],
   "source": [
    "x2"
   ]
  },
  {
   "cell_type": "markdown",
   "id": "84582558",
   "metadata": {},
   "source": [
    "событие 3 2Б/1Б+3ч"
   ]
  },
  {
   "cell_type": "code",
   "execution_count": 97,
   "id": "af5c01cf",
   "metadata": {},
   "outputs": [],
   "source": [
    "x3=(combinations (3,0)* combinations (5,2))/combinations (8,2) * (combinations (5,1)* combinations (7,3))/ combinations (12,4)"
   ]
  },
  {
   "cell_type": "code",
   "execution_count": 98,
   "id": "3b8d2cea",
   "metadata": {},
   "outputs": [
    {
     "data": {
      "text/plain": [
       "0.12626262626262627"
      ]
     },
     "execution_count": 98,
     "metadata": {},
     "output_type": "execute_result"
    }
   ],
   "source": [
    "x3"
   ]
  },
  {
   "cell_type": "code",
   "execution_count": 99,
   "id": "e775775f",
   "metadata": {},
   "outputs": [],
   "source": [
    "x=x1+x2+x3"
   ]
  },
  {
   "cell_type": "code",
   "execution_count": 100,
   "id": "7abdc7f3",
   "metadata": {},
   "outputs": [
    {
     "data": {
      "text/plain": [
       "0.35569985569985574"
      ]
     },
     "execution_count": 100,
     "metadata": {},
     "output_type": "execute_result"
    }
   ],
   "source": [
    "x"
   ]
  },
  {
   "cell_type": "markdown",
   "id": "9ca5f932",
   "metadata": {},
   "source": [
    "Вероятность что все 3 белые 0.35569985569985574\n"
   ]
  },
  {
   "cell_type": "markdown",
   "id": "92fa8fac",
   "metadata": {},
   "source": [
    "На соревновании по биатлону один из трех спортсменов стреляет и попадает в мишень. Вероятность попадания для первого спортсмена равна 0.9, для второго — 0.8, для третьего — 0.6. Найти вероятность того, что выстрел произведен: a). первым спортсменом б). вторым спортсменом в). третьим спортсменом."
   ]
  },
  {
   "cell_type": "code",
   "execution_count": 101,
   "id": "59e7bf55",
   "metadata": {},
   "outputs": [],
   "source": [
    "x = 1/3 * 0.9 + 1/3 * 0.8 + 1/3 * 0.6\n"
   ]
  },
  {
   "cell_type": "code",
   "execution_count": 102,
   "id": "6253a845",
   "metadata": {},
   "outputs": [],
   "source": [
    "x1 = (1/3 * 0.9) / x"
   ]
  },
  {
   "cell_type": "code",
   "execution_count": 103,
   "id": "76a4eb06",
   "metadata": {},
   "outputs": [
    {
     "data": {
      "text/plain": [
       "0.391304347826087"
      ]
     },
     "execution_count": 103,
     "metadata": {},
     "output_type": "execute_result"
    }
   ],
   "source": [
    "x1"
   ]
  },
  {
   "cell_type": "markdown",
   "id": "a98dec86",
   "metadata": {},
   "source": [
    "Первый спортсмен х1 = 0,3913"
   ]
  },
  {
   "cell_type": "code",
   "execution_count": 104,
   "id": "88070426",
   "metadata": {},
   "outputs": [],
   "source": [
    "x2 = (1/3 * 0.8) / x"
   ]
  },
  {
   "cell_type": "code",
   "execution_count": 105,
   "id": "0d79cb4f",
   "metadata": {},
   "outputs": [
    {
     "data": {
      "text/plain": [
       "0.3478260869565218"
      ]
     },
     "execution_count": 105,
     "metadata": {},
     "output_type": "execute_result"
    }
   ],
   "source": [
    "x2"
   ]
  },
  {
   "cell_type": "markdown",
   "id": "39b3672f",
   "metadata": {},
   "source": [
    "Второй спортсмен х2 = 0.3478260869565218"
   ]
  },
  {
   "cell_type": "code",
   "execution_count": 107,
   "id": "ed1a8ddc",
   "metadata": {},
   "outputs": [],
   "source": [
    "x3 = (1/3 * 0.6) / x"
   ]
  },
  {
   "cell_type": "code",
   "execution_count": 108,
   "id": "7fb25050",
   "metadata": {},
   "outputs": [
    {
     "data": {
      "text/plain": [
       "0.2608695652173913"
      ]
     },
     "execution_count": 108,
     "metadata": {},
     "output_type": "execute_result"
    }
   ],
   "source": [
    "x3"
   ]
  },
  {
   "cell_type": "markdown",
   "id": "747d650f",
   "metadata": {},
   "source": [
    "Третий спортсмен х3 = 0.2608695652173913"
   ]
  },
  {
   "cell_type": "markdown",
   "id": "d932b202",
   "metadata": {},
   "source": [
    "В университет на факультеты A и B поступило равное количество студентов, а на факультет C студентов поступило столько же, сколько на A и B вместе. Вероятность того, что студент факультета A сдаст первую сессию, равна 0.8. Для студента факультета B эта вероятность равна 0.7, а для студента факультета C - 0.9. Студент сдал первую сессию. Какова вероятность, что он учится: a). на факультете A б). на факультете B в). на факультете C?"
   ]
  },
  {
   "cell_type": "markdown",
   "id": "781ecfda",
   "metadata": {},
   "source": [
    "Всего студентов 100 процентов = Фак А 25 процентов, факультет Б 25 процентов и факультет С - 50 процентов\n",
    "Задача решается аналогичным способом"
   ]
  },
  {
   "cell_type": "code",
   "execution_count": 148,
   "id": "408e1393",
   "metadata": {},
   "outputs": [],
   "source": [
    "x= 1/4 * 0.8 + 1/4 * 0.7 + 1/2 * 0.9"
   ]
  },
  {
   "cell_type": "code",
   "execution_count": 149,
   "id": "0b0c9a77",
   "metadata": {},
   "outputs": [
    {
     "data": {
      "text/plain": [
       "0.825"
      ]
     },
     "execution_count": 149,
     "metadata": {},
     "output_type": "execute_result"
    }
   ],
   "source": [
    "x"
   ]
  },
  {
   "cell_type": "code",
   "execution_count": 115,
   "id": "9a02436b",
   "metadata": {},
   "outputs": [],
   "source": [
    "FA = (1/4*0.8) / x "
   ]
  },
  {
   "cell_type": "code",
   "execution_count": 116,
   "id": "5ec2bd40",
   "metadata": {},
   "outputs": [
    {
     "data": {
      "text/plain": [
       "0.24242424242424246"
      ]
     },
     "execution_count": 116,
     "metadata": {},
     "output_type": "execute_result"
    }
   ],
   "source": [
    "FA"
   ]
  },
  {
   "cell_type": "markdown",
   "id": "6972bf2a",
   "metadata": {},
   "source": [
    "Фак. А - вероятность 0,24"
   ]
  },
  {
   "cell_type": "code",
   "execution_count": 117,
   "id": "81f17cc2",
   "metadata": {},
   "outputs": [],
   "source": [
    "FB = (1/4*0.7) / x "
   ]
  },
  {
   "cell_type": "code",
   "execution_count": 127,
   "id": "40070b57",
   "metadata": {},
   "outputs": [
    {
     "data": {
      "text/plain": [
       "0.21212121212121213"
      ]
     },
     "execution_count": 127,
     "metadata": {},
     "output_type": "execute_result"
    }
   ],
   "source": [
    "FB"
   ]
  },
  {
   "cell_type": "markdown",
   "id": "f60c1c76",
   "metadata": {},
   "source": [
    "Фак. В - вероятность 0,24"
   ]
  },
  {
   "cell_type": "code",
   "execution_count": 138,
   "id": "cbf06ac4",
   "metadata": {},
   "outputs": [
    {
     "data": {
      "text/plain": [
       "0.5454545454545455"
      ]
     },
     "execution_count": 138,
     "metadata": {},
     "output_type": "execute_result"
    }
   ],
   "source": [
    "(1/2*0.9) / x "
   ]
  },
  {
   "cell_type": "markdown",
   "id": "00ae7997",
   "metadata": {},
   "source": [
    "Фак. C - вероятность 0,54"
   ]
  },
  {
   "cell_type": "code",
   "execution_count": null,
   "id": "4b903299",
   "metadata": {},
   "outputs": [],
   "source": []
  },
  {
   "cell_type": "markdown",
   "id": "19182c5c",
   "metadata": {},
   "source": [
    "Устройство состоит из трех деталей. Для первой детали вероятность выйти из строя в первый месяц равна 0.1, для второй - 0.2, для третьей - 0.25. Какова вероятность того, что в первый месяц выйдут из строя: а). все детали б). только две детали в). хотя бы одна деталь г). от одной до двух деталей?"
   ]
  },
  {
   "cell_type": "code",
   "execution_count": 154,
   "id": "1c3502c8",
   "metadata": {},
   "outputs": [],
   "source": [
    "p1*p2+p1*p3+p2*p3-3*p1*p2*p3"
   ]
  },
  {
   "cell_type": "code",
   "execution_count": 196,
   "id": "cf944c88",
   "metadata": {},
   "outputs": [],
   "source": []
  },
  {
   "cell_type": "code",
   "execution_count": 208,
   "id": "8d1ebff5",
   "metadata": {},
   "outputs": [],
   "source": [
    "P =  (1*0.1)*(1*0.2)+(1*0.1)*(1*0.25)+ (1*0.2)*(1*0.25) - ( 3*(1*0.1)*(1*0.2)*(1*0.25) )"
   ]
  },
  {
   "cell_type": "code",
   "execution_count": 209,
   "id": "d47044cb",
   "metadata": {},
   "outputs": [
    {
     "data": {
      "text/plain": [
       "0.08"
      ]
     },
     "execution_count": 209,
     "metadata": {},
     "output_type": "execute_result"
    }
   ],
   "source": [
    "P"
   ]
  },
  {
   "cell_type": "markdown",
   "id": "98227233",
   "metadata": {},
   "source": [
    "P = Вероятность что только две детали выйдут из строя ровна 0,8"
   ]
  },
  {
   "cell_type": "code",
   "execution_count": 201,
   "id": "393f30f7",
   "metadata": {},
   "outputs": [],
   "source": [
    "P1 = (1*0.1)*(1*0.2)*(1*0.25)"
   ]
  },
  {
   "cell_type": "code",
   "execution_count": 202,
   "id": "2db9c0ff",
   "metadata": {},
   "outputs": [
    {
     "data": {
      "text/plain": [
       "0.005000000000000001"
      ]
     },
     "execution_count": 202,
     "metadata": {},
     "output_type": "execute_result"
    }
   ],
   "source": [
    "P1"
   ]
  },
  {
   "cell_type": "markdown",
   "id": "1c53b4ea",
   "metadata": {},
   "source": [
    "P = Вероятность что детали выйдут из строя ровна 0,005"
   ]
  },
  {
   "cell_type": "code",
   "execution_count": 203,
   "id": "952a1f73",
   "metadata": {},
   "outputs": [],
   "source": [
    "P2 = (1*0.1)+(1*0.2)+(1*0.25)"
   ]
  },
  {
   "cell_type": "code",
   "execution_count": 204,
   "id": "ccb4f3b1",
   "metadata": {},
   "outputs": [
    {
     "data": {
      "text/plain": [
       "0.55"
      ]
     },
     "execution_count": 204,
     "metadata": {},
     "output_type": "execute_result"
    }
   ],
   "source": [
    "P2"
   ]
  },
  {
   "cell_type": "markdown",
   "id": "29c5aeb2",
   "metadata": {},
   "source": [
    "Вероятность что выйдет их строя хотя бы одна деталь 0.55"
   ]
  },
  {
   "cell_type": "code",
   "execution_count": 212,
   "id": "5d10b72d",
   "metadata": {},
   "outputs": [],
   "source": [
    "P3 = P2*P"
   ]
  },
  {
   "cell_type": "code",
   "execution_count": 213,
   "id": "c26cf74b",
   "metadata": {},
   "outputs": [
    {
     "data": {
      "text/plain": [
       "0.044000000000000004"
      ]
     },
     "execution_count": 213,
     "metadata": {},
     "output_type": "execute_result"
    }
   ],
   "source": [
    "P3"
   ]
  },
  {
   "cell_type": "code",
   "execution_count": null,
   "id": "a715b0a1",
   "metadata": {},
   "outputs": [],
   "source": [
    "Вероятность что выйдет от 1 до 2х деталей ровна 0,44"
   ]
  }
 ],
 "metadata": {
  "kernelspec": {
   "display_name": "Python 3 (ipykernel)",
   "language": "python",
   "name": "python3"
  },
  "language_info": {
   "codemirror_mode": {
    "name": "ipython",
    "version": 3
   },
   "file_extension": ".py",
   "mimetype": "text/x-python",
   "name": "python",
   "nbconvert_exporter": "python",
   "pygments_lexer": "ipython3",
   "version": "3.9.12"
  }
 },
 "nbformat": 4,
 "nbformat_minor": 5
}
