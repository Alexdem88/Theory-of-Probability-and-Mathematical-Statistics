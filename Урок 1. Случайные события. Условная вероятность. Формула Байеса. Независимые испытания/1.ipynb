{
 "cells": [
  {
   "cell_type": "markdown",
   "id": "49daaadf",
   "metadata": {},
   "source": [
    "Из колоды в 52 карты извлекаются случайным образом 4 карты. a) Найти вероятность того, что все карты – крести. б) Найти вероятность, что среди 4-х карт окажется хотя бы один туз."
   ]
  },
  {
   "cell_type": "code",
   "execution_count": 7,
   "id": "3d8967e1",
   "metadata": {},
   "outputs": [],
   "source": [
    "import numpy as np"
   ]
  },
  {
   "cell_type": "code",
   "execution_count": 8,
   "id": "0043d5ca",
   "metadata": {},
   "outputs": [],
   "source": [
    "from math import factorial"
   ]
  },
  {
   "cell_type": "markdown",
   "id": "dcfeb55e",
   "metadata": {},
   "source": [
    "Посчитаем все подмножества крестей "
   ]
  },
  {
   "cell_type": "code",
   "execution_count": 9,
   "id": "fdf6104d",
   "metadata": {},
   "outputs": [],
   "source": [
    "def combinations(n, k):\n",
    "    return int(factorial(n) /  (factorial(k)*factorial(n - k)))"
   ]
  },
  {
   "cell_type": "code",
   "execution_count": 10,
   "id": "b3aecf0a",
   "metadata": {},
   "outputs": [
    {
     "data": {
      "text/plain": [
       "715"
      ]
     },
     "execution_count": 10,
     "metadata": {},
     "output_type": "execute_result"
    }
   ],
   "source": [
    "combinations(13,4)"
   ]
  },
  {
   "cell_type": "markdown",
   "id": "087dcb4d",
   "metadata": {},
   "source": [
    "Теперь посчитаем все подмножества 4 карт из 52"
   ]
  },
  {
   "cell_type": "code",
   "execution_count": 12,
   "id": "048f4d34",
   "metadata": {},
   "outputs": [],
   "source": [
    "def combinations(n, k):\n",
    "    return int(factorial(n) /  (factorial(k)*factorial(n - k)))"
   ]
  },
  {
   "cell_type": "code",
   "execution_count": 13,
   "id": "7a817928",
   "metadata": {},
   "outputs": [
    {
     "data": {
      "text/plain": [
       "270725"
      ]
     },
     "execution_count": 13,
     "metadata": {},
     "output_type": "execute_result"
    }
   ],
   "source": [
    "combinations(52,4)"
   ]
  },
  {
   "cell_type": "code",
   "execution_count": 14,
   "id": "9298a20a",
   "metadata": {},
   "outputs": [],
   "source": [
    "m = factorial(13) / (factorial(4)*factorial(13 - 4))"
   ]
  },
  {
   "cell_type": "code",
   "execution_count": 15,
   "id": "8d59b569",
   "metadata": {},
   "outputs": [
    {
     "data": {
      "text/plain": [
       "715.0"
      ]
     },
     "execution_count": 15,
     "metadata": {},
     "output_type": "execute_result"
    }
   ],
   "source": [
    "m"
   ]
  },
  {
   "cell_type": "code",
   "execution_count": 18,
   "id": "bef5698a",
   "metadata": {},
   "outputs": [],
   "source": [
    "n= factorial(52) / (factorial(4)*factorial(52 - 4))"
   ]
  },
  {
   "cell_type": "markdown",
   "id": "c3fb96ab",
   "metadata": {},
   "source": []
  },
  {
   "cell_type": "code",
   "execution_count": 19,
   "id": "9698688b",
   "metadata": {},
   "outputs": [],
   "source": [
    "A = m/n\n"
   ]
  },
  {
   "cell_type": "code",
   "execution_count": 20,
   "id": "5064b55c",
   "metadata": {},
   "outputs": [
    {
     "data": {
      "text/plain": [
       "0.0026410564225690276"
      ]
     },
     "execution_count": 20,
     "metadata": {},
     "output_type": "execute_result"
    }
   ],
   "source": [
    "A"
   ]
  },
  {
   "cell_type": "markdown",
   "id": "42997f25",
   "metadata": {},
   "source": [
    "Найти вероятность, что среди 4-х карт окажется хотя бы один туз."
   ]
  },
  {
   "cell_type": "markdown",
   "id": "3c454db1",
   "metadata": {},
   "source": [
    "посчитаем общ кол сочетаний"
   ]
  },
  {
   "cell_type": "code",
   "execution_count": 21,
   "id": "78d3fa6d",
   "metadata": {},
   "outputs": [],
   "source": [
    "n = factorial(52) / (factorial(4)*factorial(52 - 4))"
   ]
  },
  {
   "cell_type": "code",
   "execution_count": 22,
   "id": "3262d9c1",
   "metadata": {},
   "outputs": [
    {
     "data": {
      "text/plain": [
       "270725.0"
      ]
     },
     "execution_count": 22,
     "metadata": {},
     "output_type": "execute_result"
    }
   ],
   "source": [
    "n"
   ]
  },
  {
   "cell_type": "markdown",
   "id": "d1e007dd",
   "metadata": {},
   "source": [
    "посчитаем подмножество без тузов"
   ]
  },
  {
   "cell_type": "code",
   "execution_count": 51,
   "id": "df58693b",
   "metadata": {},
   "outputs": [],
   "source": [
    "a = factorial(48) / (factorial(3)*factorial(48 - 3))"
   ]
  },
  {
   "cell_type": "code",
   "execution_count": null,
   "id": "80c81b7f",
   "metadata": {},
   "outputs": [],
   "source": []
  },
  {
   "cell_type": "markdown",
   "id": "6ac4f46c",
   "metadata": {},
   "source": [
    "умножим на количество сочетаний тузов ( нам нужен 1 туз)"
   ]
  },
  {
   "cell_type": "code",
   "execution_count": 52,
   "id": "f16d9e63",
   "metadata": {},
   "outputs": [],
   "source": [
    "m = a * 4"
   ]
  },
  {
   "cell_type": "code",
   "execution_count": 53,
   "id": "f119bbbc",
   "metadata": {},
   "outputs": [
    {
     "data": {
      "text/plain": [
       "69184.0"
      ]
     },
     "execution_count": 53,
     "metadata": {},
     "output_type": "execute_result"
    }
   ],
   "source": [
    "m"
   ]
  },
  {
   "cell_type": "code",
   "execution_count": 57,
   "id": "04d7530c",
   "metadata": {},
   "outputs": [],
   "source": [
    "x1 = m/n"
   ]
  },
  {
   "cell_type": "code",
   "execution_count": 58,
   "id": "5685b6c5",
   "metadata": {},
   "outputs": [
    {
     "data": {
      "text/plain": [
       "0.25555083571890297"
      ]
     },
     "execution_count": 58,
     "metadata": {},
     "output_type": "execute_result"
    }
   ],
   "source": [
    "x1"
   ]
  },
  {
   "cell_type": "markdown",
   "id": "c12f09fd",
   "metadata": {},
   "source": [
    "Вероятность, что среди 4-х карт окажется один туз = 0.25555083571890297, а нам нужно посчитать, вероятность где будет ХОТЯ БЫ один туз.  Продолжим."
   ]
  },
  {
   "cell_type": "code",
   "execution_count": 59,
   "id": "2f6a2bc3",
   "metadata": {},
   "outputs": [
    {
     "data": {
      "text/plain": [
       "0.25555083571890297"
      ]
     },
     "execution_count": 59,
     "metadata": {},
     "output_type": "execute_result"
    }
   ],
   "source": [
    "0.25555083571890297"
   ]
  },
  {
   "cell_type": "markdown",
   "id": "5a3f8475",
   "metadata": {},
   "source": [
    "Распишем вероятность где может выпасть 2,3 и 4 туза из 4х карт"
   ]
  },
  {
   "cell_type": "code",
   "execution_count": 60,
   "id": "4e7ac7bd",
   "metadata": {},
   "outputs": [],
   "source": [
    "x2 = (factorial(4) / (factorial(2)*factorial(4 - 2))) * (factorial(48) / (factorial(2)*factorial(48 - 2))) / n\n",
    "x3 = (factorial(4) / (factorial(3)*factorial(4 - 3))) * (factorial(48) / (factorial(1)*factorial(48 - 1))) / n\n",
    "x4 = factorial(4) / (factorial(4)*factorial(4 - 4)) / n"
   ]
  },
  {
   "cell_type": "markdown",
   "id": "c008bf61",
   "metadata": {},
   "source": [
    "сложим все события"
   ]
  },
  {
   "cell_type": "code",
   "execution_count": 63,
   "id": "e944ef0a",
   "metadata": {},
   "outputs": [],
   "source": [
    "x = x1 + x2+x3+x4"
   ]
  },
  {
   "cell_type": "code",
   "execution_count": 64,
   "id": "17fd0a37",
   "metadata": {},
   "outputs": [
    {
     "data": {
      "text/plain": [
       "0.2812632745405855"
      ]
     },
     "execution_count": 64,
     "metadata": {},
     "output_type": "execute_result"
    }
   ],
   "source": [
    "x"
   ]
  },
  {
   "cell_type": "markdown",
   "id": "0862e7d1",
   "metadata": {},
   "source": [
    "На входной двери подъезда установлен кодовый замок, содержащий десять кнопок с цифрами от 0 до 9. Код содержит три цифры, которые нужно нажать одновременно. Какова вероятность того, что человек, не знающий код, откроет дверь с первой попытки?"
   ]
  },
  {
   "cell_type": "code",
   "execution_count": 65,
   "id": "086c0ed6",
   "metadata": {},
   "outputs": [],
   "source": [
    "A = m/n"
   ]
  },
  {
   "cell_type": "markdown",
   "id": "c6627ad8",
   "metadata": {},
   "source": [
    "A = благоприятный исход, m = количество попыток, n = количество размещений"
   ]
  },
  {
   "cell_type": "code",
   "execution_count": 72,
   "id": "238e6539",
   "metadata": {},
   "outputs": [],
   "source": [
    "n = (factorial(10) / factorial(10 - 3))"
   ]
  },
  {
   "cell_type": "code",
   "execution_count": 80,
   "id": "5f7ccc7f",
   "metadata": {},
   "outputs": [
    {
     "data": {
      "text/plain": [
       "720.0"
      ]
     },
     "execution_count": 80,
     "metadata": {},
     "output_type": "execute_result"
    }
   ],
   "source": [
    "n"
   ]
  },
  {
   "cell_type": "code",
   "execution_count": 81,
   "id": "4acb8fd1",
   "metadata": {},
   "outputs": [],
   "source": [
    "m=1"
   ]
  },
  {
   "cell_type": "code",
   "execution_count": 82,
   "id": "1394ebec",
   "metadata": {},
   "outputs": [],
   "source": [
    "A = m/n"
   ]
  },
  {
   "cell_type": "code",
   "execution_count": 83,
   "id": "fa4c8baf",
   "metadata": {},
   "outputs": [
    {
     "data": {
      "text/plain": [
       "0.001388888888888889"
      ]
     },
     "execution_count": 83,
     "metadata": {},
     "output_type": "execute_result"
    }
   ],
   "source": [
    "A"
   ]
  },
  {
   "cell_type": "markdown",
   "id": "5a297ab2",
   "metadata": {},
   "source": [
    "Вероятность с первого раза отгадать код состоящий из 3х цифр составляет 0.001388888888888889"
   ]
  },
  {
   "cell_type": "markdown",
   "id": "1b4a659f",
   "metadata": {},
   "source": [
    "В ящике имеется 15 деталей, из которых 9 окрашены. Рабочий случайным образом извлекает 3 детали. Какова вероятность того, что все извлеченные детали окрашены?"
   ]
  },
  {
   "cell_type": "markdown",
   "id": "371f9550",
   "metadata": {},
   "source": [
    "c = вероятность достать 3 окрашенных детали. а = общее количество сочетаний б = количество сочетаний окрашенных деталей"
   ]
  },
  {
   "cell_type": "code",
   "execution_count": 92,
   "id": "4b8bc380",
   "metadata": {},
   "outputs": [],
   "source": [
    "a = factorial(15) / (factorial(3)*factorial(15 - 3))"
   ]
  },
  {
   "cell_type": "code",
   "execution_count": 93,
   "id": "86e13dad",
   "metadata": {},
   "outputs": [],
   "source": [
    "b = factorial(9) / (factorial(3)*factorial(9- 3))"
   ]
  },
  {
   "cell_type": "code",
   "execution_count": 97,
   "id": "58d73d3a",
   "metadata": {},
   "outputs": [],
   "source": [
    "c= b/a\n",
    "\n"
   ]
  },
  {
   "cell_type": "code",
   "execution_count": 98,
   "id": "3cbe667d",
   "metadata": {},
   "outputs": [
    {
     "data": {
      "text/plain": [
       "0.18461538461538463"
      ]
     },
     "execution_count": 98,
     "metadata": {},
     "output_type": "execute_result"
    }
   ],
   "source": [
    "c"
   ]
  },
  {
   "cell_type": "markdown",
   "id": "58747f3f",
   "metadata": {},
   "source": [
    "В лотерее 100 билетов. Из них 2 выигрышных. Какова вероятность того, что 2 приобретенных билета окажутся выигрышными?"
   ]
  },
  {
   "cell_type": "markdown",
   "id": "63ab910e",
   "metadata": {},
   "source": [
    "с = вероятность достать два выйгрышных билета, а = количество сочетаний билетов  б = количество сочетаний выгрышных билетов из количетсва приобретенных былетов"
   ]
  },
  {
   "cell_type": "code",
   "execution_count": 113,
   "id": "9a533ee9",
   "metadata": {},
   "outputs": [],
   "source": [
    "a = factorial(100) / (factorial(2)*factorial(100 - 2))"
   ]
  },
  {
   "cell_type": "code",
   "execution_count": 114,
   "id": "b185da07",
   "metadata": {},
   "outputs": [
    {
     "data": {
      "text/plain": [
       "4950.0"
      ]
     },
     "execution_count": 114,
     "metadata": {},
     "output_type": "execute_result"
    }
   ],
   "source": [
    "a"
   ]
  },
  {
   "cell_type": "code",
   "execution_count": 115,
   "id": "0ee1e308",
   "metadata": {},
   "outputs": [],
   "source": [
    "b = factorial(2) / (factorial(2)*factorial(2 - 2))"
   ]
  },
  {
   "cell_type": "code",
   "execution_count": 116,
   "id": "0878d87f",
   "metadata": {},
   "outputs": [
    {
     "data": {
      "text/plain": [
       "1.0"
      ]
     },
     "execution_count": 116,
     "metadata": {},
     "output_type": "execute_result"
    }
   ],
   "source": [
    "b"
   ]
  },
  {
   "cell_type": "code",
   "execution_count": 117,
   "id": "f4c2943c",
   "metadata": {},
   "outputs": [],
   "source": [
    "c = b/a"
   ]
  },
  {
   "cell_type": "code",
   "execution_count": 118,
   "id": "c850bce1",
   "metadata": {},
   "outputs": [
    {
     "data": {
      "text/plain": [
       "0.00020202020202020202"
      ]
     },
     "execution_count": 118,
     "metadata": {},
     "output_type": "execute_result"
    }
   ],
   "source": [
    "c"
   ]
  },
  {
   "cell_type": "markdown",
   "id": "68c53ec4",
   "metadata": {},
   "source": [
    "Шанс, что из двух купленных билетов будет два билета выйгрышных = 0.00020202020202020202"
   ]
  },
  {
   "cell_type": "code",
   "execution_count": null,
   "id": "10f70b3b",
   "metadata": {},
   "outputs": [],
   "source": []
  }
 ],
 "metadata": {
  "kernelspec": {
   "display_name": "Python 3 (ipykernel)",
   "language": "python",
   "name": "python3"
  },
  "language_info": {
   "codemirror_mode": {
    "name": "ipython",
    "version": 3
   },
   "file_extension": ".py",
   "mimetype": "text/x-python",
   "name": "python",
   "nbconvert_exporter": "python",
   "pygments_lexer": "ipython3",
   "version": "3.9.7"
  }
 },
 "nbformat": 4,
 "nbformat_minor": 5
}
