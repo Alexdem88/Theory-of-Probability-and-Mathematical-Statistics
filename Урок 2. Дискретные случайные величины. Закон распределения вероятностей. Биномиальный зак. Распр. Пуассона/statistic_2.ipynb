{
 "cells": [
  {
   "cell_type": "markdown",
   "id": "08515f97",
   "metadata": {},
   "source": [
    "# Вероятность того, что стрелок попадет в мишень, выстрелив один раз, равна 0.8. Стрелок выстрелил 100 раз. Найдите вероятность того, что стрелок попадет в цель ровно 85 раз."
   ]
  },
  {
   "cell_type": "code",
   "execution_count": 10,
   "id": "6d026d6b",
   "metadata": {},
   "outputs": [],
   "source": [
    "import numpy as np\n",
    "from math import factorial as f"
   ]
  },
  {
   "cell_type": "code",
   "execution_count": 13,
   "id": "6dd3a783",
   "metadata": {},
   "outputs": [],
   "source": [
    "def combinations(n,k):\n",
    "    return f(n) / (f(k) * f(n-k))"
   ]
  },
  {
   "cell_type": "code",
   "execution_count": 14,
   "id": "f29b0f5e",
   "metadata": {},
   "outputs": [],
   "source": [
    "def bernuli(p, n, k):\n",
    "    return combinations(n,k) * p**(k) * (1 - p)**(n - k)"
   ]
  },
  {
   "cell_type": "code",
   "execution_count": 15,
   "id": "f3a53c3d",
   "metadata": {},
   "outputs": [
    {
     "data": {
      "text/plain": [
       "0.048061793700746355"
      ]
     },
     "execution_count": 15,
     "metadata": {},
     "output_type": "execute_result"
    }
   ],
   "source": [
    "bernuli(0.8, 100, 85)"
   ]
  },
  {
   "cell_type": "markdown",
   "id": "1504c5de",
   "metadata": {},
   "source": [
    "Вероятность того, что стрелок попадет в цель ровно 85 раз ровна 0.048061793700746355.\n"
   ]
  },
  {
   "cell_type": "markdown",
   "id": "30b7434e",
   "metadata": {},
   "source": [
    "# Вероятность того, что лампочка перегорит в течение первого дня эксплуатации, равна 0.0004. В жилом комплексе после ремонта в один день включили 5000 новых лампочек. Какова вероятность, что ни одна из них не перегорит в первый день? Какова вероятность, что перегорят ровно две?"
   ]
  },
  {
   "cell_type": "markdown",
   "id": "4675d2b6",
   "metadata": {},
   "source": [
    "p= 0.0004, n = 5000  m=0 или 2 в зависимости от условий задачи"
   ]
  },
  {
   "cell_type": "code",
   "execution_count": 16,
   "id": "ab12f667",
   "metadata": {},
   "outputs": [],
   "source": [
    "lmd = 5000*0.0004"
   ]
  },
  {
   "cell_type": "code",
   "execution_count": 17,
   "id": "87c97d5c",
   "metadata": {},
   "outputs": [
    {
     "data": {
      "text/plain": [
       "2.0"
      ]
     },
     "execution_count": 17,
     "metadata": {},
     "output_type": "execute_result"
    }
   ],
   "source": [
    "lmd"
   ]
  },
  {
   "cell_type": "code",
   "execution_count": 24,
   "id": "22f19317",
   "metadata": {},
   "outputs": [],
   "source": []
  },
  {
   "cell_type": "markdown",
   "id": "41bbb1aa",
   "metadata": {},
   "source": [
    "Каковая вероятность что не перегорит не одна лампочка? м=0\n"
   ]
  },
  {
   "cell_type": "code",
   "execution_count": 27,
   "id": "7491f534",
   "metadata": {},
   "outputs": [],
   "source": [
    "m=0"
   ]
  },
  {
   "cell_type": "code",
   "execution_count": 28,
   "id": "5873b16c",
   "metadata": {},
   "outputs": [],
   "source": [
    "P =lmd**m/f(m)*np.exp(-lmd)"
   ]
  },
  {
   "cell_type": "markdown",
   "id": "9d4f1687",
   "metadata": {},
   "source": [
    "P"
   ]
  },
  {
   "cell_type": "markdown",
   "id": "7344bb13",
   "metadata": {},
   "source": [
    "Вероятность 0.135"
   ]
  },
  {
   "cell_type": "markdown",
   "id": "c4413fea",
   "metadata": {},
   "source": [
    "## Какова вероятность, что перегорят ровно две? m=2"
   ]
  },
  {
   "cell_type": "code",
   "execution_count": 30,
   "id": "c96a02fd",
   "metadata": {},
   "outputs": [],
   "source": [
    "m=2"
   ]
  },
  {
   "cell_type": "code",
   "execution_count": 31,
   "id": "4c61eff6",
   "metadata": {},
   "outputs": [],
   "source": [
    "P2=lmd**m/f(m)*np.exp(-lmd)"
   ]
  },
  {
   "cell_type": "code",
   "execution_count": null,
   "id": "41113557",
   "metadata": {},
   "outputs": [],
   "source": []
  },
  {
   "cell_type": "code",
   "execution_count": 32,
   "id": "8660f927",
   "metadata": {},
   "outputs": [
    {
     "data": {
      "text/plain": [
       "0.2706705664732254"
      ]
     },
     "execution_count": 32,
     "metadata": {},
     "output_type": "execute_result"
    }
   ],
   "source": [
    "P2"
   ]
  },
  {
   "cell_type": "markdown",
   "id": "2e1b1652",
   "metadata": {},
   "source": [
    "Вероятность 0.27"
   ]
  },
  {
   "cell_type": "markdown",
   "id": "0beb7d53",
   "metadata": {},
   "source": [
    "# Монету подбросили 144 раза. Какова вероятность, что орел выпадет ровно 70 раз?"
   ]
  },
  {
   "cell_type": "markdown",
   "id": "d5b9bccc",
   "metadata": {},
   "source": [
    "Будем использовать формулу Бернули. \n",
    "def bernuli(p, n, k):\n",
    "    return combinations(n,k) * p**(k) * (1 - p)**(n - k)"
   ]
  },
  {
   "cell_type": "code",
   "execution_count": 36,
   "id": "7648f43d",
   "metadata": {},
   "outputs": [],
   "source": [
    "n=144\n",
    "k=70\n",
    "p=0.5"
   ]
  },
  {
   "cell_type": "code",
   "execution_count": 43,
   "id": "216e78a2",
   "metadata": {},
   "outputs": [
    {
     "data": {
      "text/plain": [
       "1.4007495090837087e+42"
      ]
     },
     "execution_count": 43,
     "metadata": {},
     "output_type": "execute_result"
    }
   ],
   "source": [
    "combinations (144,70)"
   ]
  },
  {
   "cell_type": "code",
   "execution_count": 47,
   "id": "85fd1575",
   "metadata": {},
   "outputs": [],
   "source": [
    "Orel= (1.4007495090837087e+42) * 0.5**(70) * (1 - 0.5)**(144 - 70)"
   ]
  },
  {
   "cell_type": "code",
   "execution_count": 45,
   "id": "d3ffcf78",
   "metadata": {},
   "outputs": [
    {
     "data": {
      "text/plain": [
       "0.06281178035144776"
      ]
     },
     "execution_count": 45,
     "metadata": {},
     "output_type": "execute_result"
    }
   ],
   "source": [
    "Orel"
   ]
  },
  {
   "cell_type": "code",
   "execution_count": 49,
   "id": "db960bb1",
   "metadata": {},
   "outputs": [
    {
     "data": {
      "text/plain": [
       "0.06281178035144776"
      ]
     },
     "execution_count": 49,
     "metadata": {},
     "output_type": "execute_result"
    }
   ],
   "source": [
    "bernuli(0.5, 144, 70)"
   ]
  },
  {
   "cell_type": "markdown",
   "id": "ca4e7549",
   "metadata": {},
   "source": [
    "Вероятность того, что орел выпадет ровно 70 раз равно = 0.0628"
   ]
  },
  {
   "cell_type": "markdown",
   "id": "2ec6606e",
   "metadata": {},
   "source": [
    "# В первом ящике находится 10 мячей, из которых 7 - белые. Во втором ящике - 11 мячей, из которых 9 белых. Из каждого ящика вытаскивают случайным образом по два мяча."
   ]
  },
  {
   "cell_type": "markdown",
   "id": "d14bce82",
   "metadata": {},
   "source": [
    "Какова вероятность того, что все мячи белые?"
   ]
  },
  {
   "cell_type": "code",
   "execution_count": 53,
   "id": "922c3c0e",
   "metadata": {},
   "outputs": [
    {
     "data": {
      "text/plain": [
       "0.3054545454545455"
      ]
     },
     "execution_count": 53,
     "metadata": {},
     "output_type": "execute_result"
    }
   ],
   "source": [
    "combinations (7,2) / combinations (10,2)  * combinations (9, 2) / combinations (11,2)"
   ]
  },
  {
   "cell_type": "markdown",
   "id": "ba3983e2",
   "metadata": {},
   "source": [
    "Какова вероятность того, что хотя бы один мяч белый?"
   ]
  },
  {
   "cell_type": "code",
   "execution_count": 56,
   "id": "4404c706",
   "metadata": {},
   "outputs": [
    {
     "data": {
      "text/plain": [
       "0.9987878787878788"
      ]
     },
     "execution_count": 56,
     "metadata": {},
     "output_type": "execute_result"
    }
   ],
   "source": [
    "1 -combinations (3,2) / combinations (10,2)  * combinations (2, 2) / combinations (11,2)"
   ]
  },
  {
   "cell_type": "markdown",
   "id": "8b1a066b",
   "metadata": {},
   "source": [
    "Вероятность что выпадет хотя бы один белый мяч ровна 0.998"
   ]
  },
  {
   "cell_type": "markdown",
   "id": "c5cedcd5",
   "metadata": {},
   "source": [
    "Какова вероятность того, что ровно два мяча белые"
   ]
  },
  {
   "cell_type": "markdown",
   "id": "a8e062e4",
   "metadata": {},
   "source": [
    "У нас 6 вариантов бб+ чч / бч + бч / чб +чб /  чч+ бб /  чб+бч / бч+чб . Посчтимаем вероятность каждого события и сложим их."
   ]
  },
  {
   "cell_type": "code",
   "execution_count": 60,
   "id": "90bbfa8d",
   "metadata": {},
   "outputs": [
    {
     "data": {
      "text/plain": [
       "0.20484848484848484"
      ]
     },
     "execution_count": 60,
     "metadata": {},
     "output_type": "execute_result"
    }
   ],
   "source": [
    "(7/10)*(6/9)*(2/11)*(1/10) + (7/10)*(3/9)*(9/11)*(2/10) + (7/10)*(3/9)*(2/11)*(9/10) + (3/10)*(7/9)*(9/11)*(2/10) + (3/10)*(7/9)*(2/11)*(9/10) + (3/10)*(2/9)*(9/11)*(8/10)"
   ]
  },
  {
   "cell_type": "markdown",
   "id": "c82ecd35",
   "metadata": {},
   "source": [
    " вероятность того, что ровно два мяча белые = 0.28"
   ]
  },
  {
   "cell_type": "code",
   "execution_count": null,
   "id": "2e9d6117",
   "metadata": {},
   "outputs": [],
   "source": []
  }
 ],
 "metadata": {
  "kernelspec": {
   "display_name": "Python 3 (ipykernel)",
   "language": "python",
   "name": "python3"
  },
  "language_info": {
   "codemirror_mode": {
    "name": "ipython",
    "version": 3
   },
   "file_extension": ".py",
   "mimetype": "text/x-python",
   "name": "python",
   "nbconvert_exporter": "python",
   "pygments_lexer": "ipython3",
   "version": "3.9.7"
  }
 },
 "nbformat": 4,
 "nbformat_minor": 5
}
